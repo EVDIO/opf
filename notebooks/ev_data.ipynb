{
 "cells": [
  {
   "cell_type": "code",
   "execution_count": 31,
   "metadata": {},
   "outputs": [],
   "source": [
    "import pandas as pd\n",
    "import json\n",
    "import numpy as np\n",
    "import matplotlib.pyplot as plt\n",
    "import random"
   ]
  },
  {
   "cell_type": "code",
   "execution_count": 8,
   "metadata": {},
   "outputs": [],
   "source": [
    "file_path = r'C:\\Users\\Dell\\Documents\\GitHub\\opf\\data\\raw\\acndata_sessions.json'\n",
    "with open(file_path, 'r') as f:\n",
    "    file_contents = f.read()\n",
    "    data_ev = json.loads(file_contents)"
   ]
  },
  {
   "cell_type": "code",
   "execution_count": 9,
   "metadata": {},
   "outputs": [],
   "source": [
    "data_ev = data_ev['_items']\n",
    "df_ev = pd.DataFrame(data_ev)"
   ]
  },
  {
   "cell_type": "code",
   "execution_count": 10,
   "metadata": {},
   "outputs": [],
   "source": [
    "# Assuming your dataframe is named \"df\"\n",
    "df_ev['connectionTime'] = pd.to_datetime(df_ev['connectionTime'])\n",
    "df_ev['disconnectTime'] = pd.to_datetime(df_ev['disconnectTime'])\n",
    "df_ev['doneChargingTime'] = pd.to_datetime(df_ev['doneChargingTime'])"
   ]
  },
  {
   "cell_type": "code",
   "execution_count": 11,
   "metadata": {},
   "outputs": [
    {
     "data": {
      "text/html": [
       "<div>\n",
       "<style scoped>\n",
       "    .dataframe tbody tr th:only-of-type {\n",
       "        vertical-align: middle;\n",
       "    }\n",
       "\n",
       "    .dataframe tbody tr th {\n",
       "        vertical-align: top;\n",
       "    }\n",
       "\n",
       "    .dataframe thead th {\n",
       "        text-align: right;\n",
       "    }\n",
       "</style>\n",
       "<table border=\"1\" class=\"dataframe\">\n",
       "  <thead>\n",
       "    <tr style=\"text-align: right;\">\n",
       "      <th></th>\n",
       "      <th>_id</th>\n",
       "      <th>clusterID</th>\n",
       "      <th>connectionTime</th>\n",
       "      <th>disconnectTime</th>\n",
       "      <th>doneChargingTime</th>\n",
       "      <th>kWhDelivered</th>\n",
       "      <th>sessionID</th>\n",
       "      <th>siteID</th>\n",
       "      <th>spaceID</th>\n",
       "      <th>stationID</th>\n",
       "      <th>timezone</th>\n",
       "      <th>userID</th>\n",
       "      <th>userInputs</th>\n",
       "    </tr>\n",
       "  </thead>\n",
       "  <tbody>\n",
       "    <tr>\n",
       "      <th>0</th>\n",
       "      <td>5bc90cb9f9af8b0d7fe77cd2</td>\n",
       "      <td>0039</td>\n",
       "      <td>2018-04-25 11:08:04</td>\n",
       "      <td>2018-04-25 13:20:10</td>\n",
       "      <td>2018-04-25 13:21:10</td>\n",
       "      <td>7.932</td>\n",
       "      <td>2_39_78_362_2018-04-25 11:08:04.400812</td>\n",
       "      <td>0002</td>\n",
       "      <td>CA-496</td>\n",
       "      <td>2-39-78-362</td>\n",
       "      <td>America/Los_Angeles</td>\n",
       "      <td>None</td>\n",
       "      <td>None</td>\n",
       "    </tr>\n",
       "    <tr>\n",
       "      <th>1</th>\n",
       "      <td>5bc90cb9f9af8b0d7fe77cd3</td>\n",
       "      <td>0039</td>\n",
       "      <td>2018-04-25 13:45:10</td>\n",
       "      <td>2018-04-26 00:56:16</td>\n",
       "      <td>2018-04-25 16:44:15</td>\n",
       "      <td>10.013</td>\n",
       "      <td>2_39_95_27_2018-04-25 13:45:09.617470</td>\n",
       "      <td>0002</td>\n",
       "      <td>CA-319</td>\n",
       "      <td>2-39-95-27</td>\n",
       "      <td>America/Los_Angeles</td>\n",
       "      <td>None</td>\n",
       "      <td>None</td>\n",
       "    </tr>\n",
       "    <tr>\n",
       "      <th>2</th>\n",
       "      <td>5bc90cb9f9af8b0d7fe77cd4</td>\n",
       "      <td>0039</td>\n",
       "      <td>2018-04-25 13:45:50</td>\n",
       "      <td>2018-04-25 23:04:45</td>\n",
       "      <td>2018-04-25 14:51:44</td>\n",
       "      <td>5.257</td>\n",
       "      <td>2_39_79_380_2018-04-25 13:45:49.962001</td>\n",
       "      <td>0002</td>\n",
       "      <td>CA-489</td>\n",
       "      <td>2-39-79-380</td>\n",
       "      <td>America/Los_Angeles</td>\n",
       "      <td>None</td>\n",
       "      <td>None</td>\n",
       "    </tr>\n",
       "    <tr>\n",
       "      <th>3</th>\n",
       "      <td>5bc90cb9f9af8b0d7fe77cd5</td>\n",
       "      <td>0039</td>\n",
       "      <td>2018-04-25 14:37:06</td>\n",
       "      <td>2018-04-25 23:55:34</td>\n",
       "      <td>2018-04-25 16:05:22</td>\n",
       "      <td>5.177</td>\n",
       "      <td>2_39_79_379_2018-04-25 14:37:06.460772</td>\n",
       "      <td>0002</td>\n",
       "      <td>CA-327</td>\n",
       "      <td>2-39-79-379</td>\n",
       "      <td>America/Los_Angeles</td>\n",
       "      <td>None</td>\n",
       "      <td>None</td>\n",
       "    </tr>\n",
       "    <tr>\n",
       "      <th>4</th>\n",
       "      <td>5bc90cb9f9af8b0d7fe77cd6</td>\n",
       "      <td>0039</td>\n",
       "      <td>2018-04-25 14:40:34</td>\n",
       "      <td>2018-04-25 23:03:12</td>\n",
       "      <td>2018-04-25 17:40:30</td>\n",
       "      <td>10.119</td>\n",
       "      <td>2_39_79_381_2018-04-25 14:40:33.638896</td>\n",
       "      <td>0002</td>\n",
       "      <td>CA-490</td>\n",
       "      <td>2-39-79-381</td>\n",
       "      <td>America/Los_Angeles</td>\n",
       "      <td>None</td>\n",
       "      <td>None</td>\n",
       "    </tr>\n",
       "  </tbody>\n",
       "</table>\n",
       "</div>"
      ],
      "text/plain": [
       "                        _id clusterID      connectionTime      disconnectTime  \\\n",
       "0  5bc90cb9f9af8b0d7fe77cd2      0039 2018-04-25 11:08:04 2018-04-25 13:20:10   \n",
       "1  5bc90cb9f9af8b0d7fe77cd3      0039 2018-04-25 13:45:10 2018-04-26 00:56:16   \n",
       "2  5bc90cb9f9af8b0d7fe77cd4      0039 2018-04-25 13:45:50 2018-04-25 23:04:45   \n",
       "3  5bc90cb9f9af8b0d7fe77cd5      0039 2018-04-25 14:37:06 2018-04-25 23:55:34   \n",
       "4  5bc90cb9f9af8b0d7fe77cd6      0039 2018-04-25 14:40:34 2018-04-25 23:03:12   \n",
       "\n",
       "     doneChargingTime  kWhDelivered                               sessionID  \\\n",
       "0 2018-04-25 13:21:10         7.932  2_39_78_362_2018-04-25 11:08:04.400812   \n",
       "1 2018-04-25 16:44:15        10.013   2_39_95_27_2018-04-25 13:45:09.617470   \n",
       "2 2018-04-25 14:51:44         5.257  2_39_79_380_2018-04-25 13:45:49.962001   \n",
       "3 2018-04-25 16:05:22         5.177  2_39_79_379_2018-04-25 14:37:06.460772   \n",
       "4 2018-04-25 17:40:30        10.119  2_39_79_381_2018-04-25 14:40:33.638896   \n",
       "\n",
       "  siteID spaceID    stationID             timezone userID userInputs  \n",
       "0   0002  CA-496  2-39-78-362  America/Los_Angeles   None       None  \n",
       "1   0002  CA-319   2-39-95-27  America/Los_Angeles   None       None  \n",
       "2   0002  CA-489  2-39-79-380  America/Los_Angeles   None       None  \n",
       "3   0002  CA-327  2-39-79-379  America/Los_Angeles   None       None  \n",
       "4   0002  CA-490  2-39-79-381  America/Los_Angeles   None       None  "
      ]
     },
     "execution_count": 11,
     "metadata": {},
     "output_type": "execute_result"
    }
   ],
   "source": [
    "df_ev.head()"
   ]
  },
  {
   "cell_type": "code",
   "execution_count": 12,
   "metadata": {},
   "outputs": [],
   "source": [
    "df_ev['duration'] = ((df_ev['disconnectTime'] - df_ev['connectionTime'])/ np.timedelta64(1, 'h')).round(decimals=0)"
   ]
  },
  {
   "cell_type": "code",
   "execution_count": 33,
   "metadata": {},
   "outputs": [
    {
     "data": {
      "text/plain": [
       "<BarContainer object of 20 artists>"
      ]
     },
     "execution_count": 33,
     "metadata": {},
     "output_type": "execute_result"
    },
    {
     "data": {
      "image/png": "[encoded data removed]",
      "text/plain": [
       "<Figure size 640x480 with 1 Axes>"
      ]
     },
     "metadata": {},
     "output_type": "display_data"
    }
   ],
   "source": [
    "start_charge_time = df_ev.groupby(df_ev['connectionTime'].dt.hour)['_id'].count().reset_index()\n",
    "sum_counts = start_charge_time['_id'].sum()\n",
    "start_charge_time['probability'] = (start_charge_time['_id']/sum_counts)\n",
    "start_charge_time.drop('_id',axis = 1, inplace=True)\n",
    "start_charge_time\n",
    "# Calculate cumulative probabilities\n",
    "start_charge_time['cumulative_prob'] = start_charge_time['probability'].cumsum()\n",
    "plt.bar(start_charge_time['connectionTime'],start_charge_time['cumulative_prob']*100)"
   ]
  },
  {
   "cell_type": "code",
   "execution_count": 34,
   "metadata": {},
   "outputs": [
    {
     "data": {
      "text/plain": [
       "<BarContainer object of 20 artists>"
      ]
     },
     "execution_count": 34,
     "metadata": {},
     "output_type": "execute_result"
    },
    {
     "data": {
      "image/png": "[encoded data removed]",
      "text/plain": [
       "<Figure size 640x480 with 1 Axes>"
      ]
     },
     "metadata": {},
     "output_type": "display_data"
    }
   ],
   "source": [
    "plt.bar(start_charge_time.connectionTime,start_charge_time.probability)"
   ]
  },
  {
   "cell_type": "code",
   "execution_count": 50,
   "metadata": {},
   "outputs": [],
   "source": [
    "# Assuming your DataFrame is called 'df' and the column you want to filter is 'column_name'\n",
    "Q1 = df_ev['duration'].quantile(0.25)\n",
    "Q3 = df_ev['duration'].quantile(0.75)\n",
    "IQR = Q3 - Q1\n",
    "lower_threshold = Q1 - 0.5 * IQR\n",
    "upper_threshold = Q3 + 1.5 * IQR"
   ]
  },
  {
   "cell_type": "code",
   "execution_count": 51,
   "metadata": {},
   "outputs": [],
   "source": [
    "mask = (df_ev['duration'] >= lower_threshold) & (df_ev['duration'] <= upper_threshold)\n",
    "df_ev = df_ev[mask]"
   ]
  },
  {
   "cell_type": "code",
   "execution_count": 52,
   "metadata": {},
   "outputs": [
    {
     "data": {
      "text/plain": [
       "<BarContainer object of 19 artists>"
      ]
     },
     "execution_count": 52,
     "metadata": {},
     "output_type": "execute_result"
    },
    {
     "data": {
      "image/png": "[encoded data removed]",
      "text/plain": [
       "<Figure size 640x480 with 1 Axes>"
      ]
     },
     "metadata": {},
     "output_type": "display_data"
    }
   ],
   "source": [
    "duration_time = df_ev.groupby(df_ev['duration'])['_id'].count().reset_index()\n",
    "sum_counts = duration_time['_id'].sum()\n",
    "duration_time['probability'] = (duration_time['_id']/sum_counts)\n",
    "duration_time.drop('_id',axis = 1, inplace=True)\n",
    "duration_time\n",
    "# Calculate cumulative probabilities\n",
    "duration_time['cumulative_prob'] = duration_time['probability'].cumsum()\n",
    "plt.bar(duration_time.duration,duration_time.cumulative_prob)"
   ]
  },
  {
   "cell_type": "code",
   "execution_count": 62,
   "metadata": {},
   "outputs": [
    {
     "data": {
      "text/plain": [
       "14"
      ]
     },
     "execution_count": 62,
     "metadata": {},
     "output_type": "execute_result"
    }
   ],
   "source": [
    "# Generate a random number between 0 and 1\n",
    "random_number = random.random()\n",
    "connection_time = start_charge_time[start_charge_time['cumulative_prob'] >= random_number]['connectionTime'].iloc[0]\n",
    "connection_time"
   ]
  },
  {
   "cell_type": "code",
   "execution_count": 65,
   "metadata": {},
   "outputs": [
    {
     "data": {
      "text/plain": [
       "16.0"
      ]
     },
     "execution_count": 65,
     "metadata": {},
     "output_type": "execute_result"
    }
   ],
   "source": [
    "# Generate a random number between 0 and 1\n",
    "random_number = random.random()\n",
    "duration_charge = duration_time[duration_time['cumulative_prob'] >= random_number]['duration'].iloc[0]\n",
    "duration_charge"
   ]
  },
  {
   "cell_type": "code",
   "execution_count": 66,
   "metadata": {},
   "outputs": [],
   "source": [
    "start_charge_time.to_csv(r'C:\\Users\\Dell\\Documents\\GitHub\\opf\\data\\interim\\start_charge_time.csv')\n",
    "duration_time.to_csv(r'C:\\Users\\Dell\\Documents\\GitHub\\opf\\data\\interim\\duration_time.csv')"
   ]
  }
 ],
 "metadata": {
  "kernelspec": {
   "display_name": "Python 3",
   "language": "python",
   "name": "python3"
  },
  "language_info": {
   "codemirror_mode": {
    "name": "ipython",
    "version": 3
   },
   "file_extension": ".py",
   "mimetype": "text/x-python",
   "name": "python",
   "nbconvert_exporter": "python",
   "pygments_lexer": "ipython3",
   "version": "3.11.4"
  },
  "orig_nbformat": 4
 },
 "nbformat": 4,
 "nbformat_minor": 2
}
