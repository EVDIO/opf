{
 "cells": [
  {
   "cell_type": "code",
   "execution_count": 186,
   "metadata": {},
   "outputs": [],
   "source": [
    "import pandas as pd\n",
    "import numpy as np\n",
    "import networkx as nx\n",
    "from networkx.drawing.nx_pydot import graphviz_layout\n",
    "import matplotlib.pyplot as plt\n",
    "import pyreadr"
   ]
  },
  {
   "cell_type": "code",
   "execution_count": 187,
   "metadata": {},
   "outputs": [],
   "source": [
    "path_nodes = r'C:\\Users\\Dell\\Documents\\GitHub\\opf\\data\\processed\\nodes_33.csv'\n",
    "path_lines = r'C:\\Users\\Dell\\Documents\\GitHub\\opf\\data\\processed\\lines_33.csv'\n",
    "df_nodes = pd.read_csv(path_nodes)\n",
    "df_lines = pd.read_csv(path_lines)"
   ]
  },
  {
   "attachments": {},
   "cell_type": "markdown",
   "metadata": {},
   "source": [
    "# Create network"
   ]
  },
  {
   "cell_type": "code",
   "execution_count": 188,
   "metadata": {},
   "outputs": [],
   "source": [
    "G = nx.Graph()\n",
    "\n",
    "nodes = list(df_nodes['Nodes'])\n",
    "edges = list(zip(df_lines['From'],df_lines['To']))\n",
    "pos = df_nodes.set_index('Nodes')[['pos_x', 'pos_y']].T.apply(tuple).to_dict()\n",
    "pos= {x: tuple(y.values()) for x, y in pos.items()}\n",
    "\n",
    "G.add_nodes_from(nodes)\n",
    "G.add_edges_from(edges)"
   ]
  },
  {
   "cell_type": "code",
   "execution_count": 189,
   "metadata": {},
   "outputs": [
    {
     "data": {
      "image/png": "[encoded data removed]",
      "text/plain": [
       "<Figure size 640x480 with 1 Axes>"
      ]
     },
     "metadata": {},
     "output_type": "display_data"
    }
   ],
   "source": [
    "nx.draw(G,pos=pos, with_labels = True)"
   ]
  },
  {
   "attachments": {},
   "cell_type": "markdown",
   "metadata": {},
   "source": [
    "# Make resources files"
   ]
  },
  {
   "cell_type": "code",
   "execution_count": 190,
   "metadata": {},
   "outputs": [],
   "source": [
    "columns_list = ['Nodes']\n",
    "ENERGY_RESOURCE = 'energy_resource'\n",
    "NUMBER = 5\n",
    "for i in range(1,NUMBER+1):\n",
    "    columns_list.append(ENERGY_RESOURCE+str(i))\n",
    "\n",
    "df_resources = df_nodes[columns_list]"
   ]
  },
  {
   "cell_type": "code",
   "execution_count": 191,
   "metadata": {},
   "outputs": [
    {
     "name": "stdout",
     "output_type": "stream",
     "text": [
      "cons_nom\n",
      "dg_nom\n",
      "ess_nom\n",
      "ev_nom\n",
      "pv_nom\n"
     ]
    }
   ],
   "source": [
    "import json\n",
    "file_names_open = ['cons_nom.json','dg_nom.json','ess_nom.json','ev_nom.json','pv_nom.json']\n",
    "for file in file_names_open:\n",
    "    path = \"C:\\\\Users\\\\Dell\\\\Documents\\\\GitHub\\\\opf\\\\data\\\\interim\\\\\"\n",
    "    with open(file=file) as f:\n",
    "        print(file[:-5])\n",
    "        globals()[file[:-5]] = json.load(f)\n"
   ]
  },
  {
   "cell_type": "code",
   "execution_count": 192,
   "metadata": {},
   "outputs": [],
   "source": [
    "for index,row in df_resources.iterrows():\n",
    "    for i in range(len(row)):\n",
    "        if row[i] == 'cons': \n",
    "            \n",
    "            # extend new values to each list in the dictionary\n",
    "            for j, (key,value) in enumerate(cons_nom.items()):\n",
    "                if cons_nom[\"Nodes\"]:\n",
    "                    if key == \"Nodes\":\n",
    "                        cons_nom[key].append(row[0])\n",
    "                    else:\n",
    "                        cons_nom[key].append(value[0])\n",
    "                else:\n",
    "                    cons_nom[\"Nodes\"].append(row[0])\n",
    "                    break\n",
    "        if row[i] == 'dg': \n",
    "            \n",
    "            # extend new values to each list in the dictionary\n",
    "            for j, (key,value) in enumerate(dg_nom.items()):\n",
    "                if dg_nom[\"Nodes\"]:\n",
    "                    if key == \"Nodes\":\n",
    "                        dg_nom[key].append(row[0])\n",
    "                    else:\n",
    "                        dg_nom[key].append(value[0])\n",
    "                else:\n",
    "                    dg_nom[\"Nodes\"].append(row[0])\n",
    "                    break                \n",
    "        if row[i] == 'ess': \n",
    "            \n",
    "            # extend new values to each list in the dictionary\n",
    "            for j, (key,value) in enumerate(ess_nom.items()):\n",
    "                if ess_nom[\"Nodes\"]:\n",
    "                    if key == \"Nodes\":\n",
    "                        ess_nom[key].append(row[0])\n",
    "                    else:\n",
    "                        ess_nom[key].append(value[0])\n",
    "                else:\n",
    "                    ess_nom[\"Nodes\"].append(row[0])\n",
    "                    break\n",
    "        if row[i] == 'pv': \n",
    "            \n",
    "            # extend new values to each list in the dictionary\n",
    "            for j, (key,value) in enumerate(pv_nom.items()):\n",
    "                if pv_nom[\"Nodes\"]:\n",
    "                    if key == \"Nodes\":\n",
    "                        pv_nom[key].append(row[0])\n",
    "                    else:\n",
    "                        pv_nom[key].append(value[0])\n",
    "                else:\n",
    "                    pv_nom[\"Nodes\"].append(row[0])\n",
    "                    break\n",
    "        if row[i] == 'ev': \n",
    "            \n",
    "            # extend new values to each list in the dictionary\n",
    "            for j, (key,value) in enumerate(ev_nom.items()):\n",
    "                if ev_nom[\"Nodes\"]:\n",
    "                    if key == \"Nodes\":\n",
    "                        ev_nom[key].append(row[0])\n",
    "                    else:\n",
    "                        ev_nom[key].append(value[0])\n",
    "                else:\n",
    "                    ev_nom[\"Nodes\"].append(row[0])\n",
    "                    break  "
   ]
  },
  {
   "cell_type": "code",
   "execution_count": 193,
   "metadata": {},
   "outputs": [
    {
     "name": "stdout",
     "output_type": "stream",
     "text": [
      "df_cons\n",
      "df_dg\n",
      "df_ess\n",
      "df_ev\n",
      "df_pv\n"
     ]
    }
   ],
   "source": [
    "for file in file_names_open:\n",
    "    print('df_'+file[:-9])\n",
    "    globals()['df_'+file[:-9]] = pd.DataFrame(globals()[file[:-5]])"
   ]
  },
  {
   "attachments": {},
   "cell_type": "markdown",
   "metadata": {},
   "source": [
    "# Make time series data"
   ]
  },
  {
   "cell_type": "code",
   "execution_count": 194,
   "metadata": {},
   "outputs": [],
   "source": [
    "HOURS = 24\n",
    "DAYS = 1\n",
    "TIMESTEPS = HOURS*DAYS"
   ]
  },
  {
   "cell_type": "code",
   "execution_count": 195,
   "metadata": {},
   "outputs": [],
   "source": [
    "mean_active = np.load(r'C:\\Users\\Dell\\Documents\\GitHub\\opf\\data\\interim\\cons_act_mean.npy')\n",
    "mean_reactive = np.load(r'C:\\Users\\Dell\\Documents\\GitHub\\opf\\data\\interim\\cons_react_mean.npy')"
   ]
  },
  {
   "cell_type": "code",
   "execution_count": 196,
   "metadata": {},
   "outputs": [],
   "source": [
    "mean_active = np.repeat(mean_active[:, np.newaxis], DAYS, axis=1).flatten()\n",
    "mean_reactive = np.repeat(mean_reactive[:, np.newaxis], DAYS, axis=1).flatten()"
   ]
  },
  {
   "cell_type": "code",
   "execution_count": 197,
   "metadata": {},
   "outputs": [],
   "source": [
    "num_of_cons = len(cons_nom[\"Nodes\"])\n",
    "\n",
    "dict_data = {}\n",
    "for i in range(num_of_cons):\n",
    "\n",
    "    column_act = 'PD'+'_'+str(i+1)+'_'+str(cons_nom[\"Nodes\"][i])\n",
    "    column_react = 'QD'+'_'+str(i+1)+'_'+str(cons_nom[\"Nodes\"][i])\n",
    "    dict_data[column_act] = mean_active\n",
    "    dict_data[column_react] = mean_reactive\n",
    "\n"
   ]
  },
  {
   "cell_type": "code",
   "execution_count": 198,
   "metadata": {},
   "outputs": [],
   "source": [
    "mean_pv = np.load(r'C:\\Users\\Dell\\Documents\\GitHub\\opf\\data\\interim\\pv_mean.npy')\n",
    "mean_pv = mean_pv[:TIMESTEPS]\n"
   ]
  },
  {
   "cell_type": "code",
   "execution_count": 199,
   "metadata": {},
   "outputs": [],
   "source": [
    "num_of_pv = len(pv_nom[\"Nodes\"])\n",
    "\n",
    "dict_data = {}\n",
    "for i in range(num_of_pv):\n",
    "\n",
    "    column_pv = 'PV'+'_'+str(i+1)+'_'+str(pv_nom[\"Nodes\"][i])\n",
    "    dict_data[column_pv] = mean_pv\n"
   ]
  },
  {
   "cell_type": "code",
   "execution_count": 200,
   "metadata": {},
   "outputs": [],
   "source": [
    "Delta_t = np.ones((TIMESTEPS,))\n",
    "dict_data['Delta_t'] = Delta_t"
   ]
  },
  {
   "cell_type": "code",
   "execution_count": 201,
   "metadata": {},
   "outputs": [
    {
     "data": {
      "text/plain": [
       "24"
      ]
     },
     "execution_count": 201,
     "metadata": {},
     "output_type": "execute_result"
    }
   ],
   "source": [
    "len(mean_pv)"
   ]
  },
  {
   "cell_type": "code",
   "execution_count": 202,
   "metadata": {},
   "outputs": [],
   "source": [
    "result = pyreadr.read_r(path=r'C:\\Users\\Dell\\Documents\\GitHub\\opf\\data\\raw\\Exercise3.RData')\n",
    "input_df = result['AllDat']\n",
    "U = np.array([input_df['Ta'].to_numpy(),input_df['Gv'].to_numpy(),input_df['Ph1'].to_numpy()])"
   ]
  },
  {
   "cell_type": "code",
   "execution_count": 203,
   "metadata": {},
   "outputs": [],
   "source": [
    "Ti = input_df['Ta'].to_numpy()[:TIMESTEPS]\n",
    "Gv = input_df['Gv'].to_numpy()[:TIMESTEPS]\n",
    "Ph = input_df['Ph1'].to_numpy()[:TIMESTEPS]"
   ]
  },
  {
   "cell_type": "code",
   "execution_count": 204,
   "metadata": {},
   "outputs": [
    {
     "data": {
      "text/plain": [
       "24"
      ]
     },
     "execution_count": 204,
     "metadata": {},
     "output_type": "execute_result"
    }
   ],
   "source": [
    "len(Ti)"
   ]
  },
  {
   "cell_type": "code",
   "execution_count": 205,
   "metadata": {},
   "outputs": [],
   "source": [
    "dict_data['Ti'] = Ti\n",
    "dict_data['Gv'] = Gv\n",
    "dict_data['Ph'] = Ph"
   ]
  },
  {
   "cell_type": "code",
   "execution_count": 206,
   "metadata": {},
   "outputs": [],
   "source": [
    "pt = np.array([0.06243,\n",
    "0.06015,\n",
    "0.05723,\n",
    "0.05266,\n",
    "0.05497,\n",
    "0.06119,\n",
    "0.06153,\n",
    "0.06481,\n",
    "0.06973,\n",
    "0.0802,\n",
    "0.08381,\n",
    "0.08643,\n",
    "0.08449,\n",
    "0.08613,\n",
    "0.08778,\n",
    "0.08943,\n",
    "0.08716,\n",
    "0.08717,\n",
    "0.09862,\n",
    "0.1,\n",
    "0.09636,\n",
    "0.08886,\n",
    "0.08037,\n",
    "0.07058\n",
    "])\n",
    "np.save(r'C:\\Users\\Dell\\Documents\\GitHub\\opf\\data\\interim\\pt.npy',pt)\n",
    "pt = np.repeat(pt[:, np.newaxis], DAYS, axis=1).flatten()\n",
    "\n",
    "dict_data['pt'] = pt"
   ]
  },
  {
   "cell_type": "code",
   "execution_count": 207,
   "metadata": {},
   "outputs": [
    {
     "data": {
      "text/plain": [
       "24"
      ]
     },
     "execution_count": 207,
     "metadata": {},
     "output_type": "execute_result"
    }
   ],
   "source": [
    "len(pt)"
   ]
  },
  {
   "cell_type": "code",
   "execution_count": 208,
   "metadata": {},
   "outputs": [],
   "source": [
    "df_timesteps = pd.DataFrame(dict_data)"
   ]
  }
 ],
 "metadata": {
  "kernelspec": {
   "display_name": "Python 3",
   "language": "python",
   "name": "python3"
  },
  "language_info": {
   "codemirror_mode": {
    "name": "ipython",
    "version": 3
   },
   "file_extension": ".py",
   "mimetype": "text/x-python",
   "name": "python",
   "nbconvert_exporter": "python",
   "pygments_lexer": "ipython3",
   "version": "3.11.4"
  },
  "orig_nbformat": 4
 },
 "nbformat": 4,
 "nbformat_minor": 2
}
