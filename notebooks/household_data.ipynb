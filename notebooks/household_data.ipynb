{
 "cells": [
  {
   "attachments": {},
   "cell_type": "markdown",
   "metadata": {},
   "source": [
    "# Import libraries"
   ]
  },
  {
   "cell_type": "code",
   "execution_count": 54,
   "metadata": {},
   "outputs": [],
   "source": [
    "import numpy as np\n",
    "import matplotlib.pyplot as plt\n",
    "import pandas as pd"
   ]
  },
  {
   "attachments": {},
   "cell_type": "markdown",
   "metadata": {},
   "source": [
    "# Load Data"
   ]
  },
  {
   "cell_type": "code",
   "execution_count": 110,
   "metadata": {},
   "outputs": [],
   "source": [
    "data15min_mean_path = r'C:\\Users\\Dell\\Documents\\GitHub\\PINNS_OPF\\opf\\data\\raw\\consumption_15min_mean.csv'\n",
    "data_individual_house_path = r'C:\\Users\\Dell\\Documents\\GitHub\\PINNS_OPF\\opf\\data\\raw\\household_power_consumption.csv'\n",
    "\n",
    "df_15min = pd.read_csv(data15min_mean_path)\n",
    "df_individual = pd.read_csv(data_individual_house_path)"
   ]
  },
  {
   "attachments": {},
   "cell_type": "markdown",
   "metadata": {},
   "source": [
    "# Dataset 15 minute interval"
   ]
  },
  {
   "cell_type": "code",
   "execution_count": 111,
   "metadata": {},
   "outputs": [
    {
     "data": {
      "text/html": [
       "<div>\n",
       "<style scoped>\n",
       "    .dataframe tbody tr th:only-of-type {\n",
       "        vertical-align: middle;\n",
       "    }\n",
       "\n",
       "    .dataframe tbody tr th {\n",
       "        vertical-align: top;\n",
       "    }\n",
       "\n",
       "    .dataframe thead th {\n",
       "        text-align: right;\n",
       "    }\n",
       "</style>\n",
       "<table border=\"1\" class=\"dataframe\">\n",
       "  <thead>\n",
       "    <tr style=\"text-align: right;\">\n",
       "      <th></th>\n",
       "      <th>datetime</th>\n",
       "      <th>datetime.1</th>\n",
       "      <th>value</th>\n",
       "    </tr>\n",
       "  </thead>\n",
       "  <tbody>\n",
       "    <tr>\n",
       "      <th>0</th>\n",
       "      <td>0</td>\n",
       "      <td>0</td>\n",
       "      <td>0.096</td>\n",
       "    </tr>\n",
       "    <tr>\n",
       "      <th>1</th>\n",
       "      <td>0</td>\n",
       "      <td>15</td>\n",
       "      <td>0.091</td>\n",
       "    </tr>\n",
       "    <tr>\n",
       "      <th>2</th>\n",
       "      <td>0</td>\n",
       "      <td>30</td>\n",
       "      <td>0.087</td>\n",
       "    </tr>\n",
       "    <tr>\n",
       "      <th>3</th>\n",
       "      <td>0</td>\n",
       "      <td>45</td>\n",
       "      <td>0.083</td>\n",
       "    </tr>\n",
       "    <tr>\n",
       "      <th>4</th>\n",
       "      <td>1</td>\n",
       "      <td>0</td>\n",
       "      <td>0.079</td>\n",
       "    </tr>\n",
       "  </tbody>\n",
       "</table>\n",
       "</div>"
      ],
      "text/plain": [
       "   datetime  datetime.1  value\n",
       "0         0           0  0.096\n",
       "1         0          15  0.091\n",
       "2         0          30  0.087\n",
       "3         0          45  0.083\n",
       "4         1           0  0.079"
      ]
     },
     "execution_count": 111,
     "metadata": {},
     "output_type": "execute_result"
    }
   ],
   "source": [
    "df_15min.head()"
   ]
  },
  {
   "cell_type": "code",
   "execution_count": 112,
   "metadata": {},
   "outputs": [
    {
     "data": {
      "text/html": [
       "<div>\n",
       "<style scoped>\n",
       "    .dataframe tbody tr th:only-of-type {\n",
       "        vertical-align: middle;\n",
       "    }\n",
       "\n",
       "    .dataframe tbody tr th {\n",
       "        vertical-align: top;\n",
       "    }\n",
       "\n",
       "    .dataframe thead th {\n",
       "        text-align: right;\n",
       "    }\n",
       "</style>\n",
       "<table border=\"1\" class=\"dataframe\">\n",
       "  <thead>\n",
       "    <tr style=\"text-align: right;\">\n",
       "      <th></th>\n",
       "      <th>value</th>\n",
       "      <th>time</th>\n",
       "    </tr>\n",
       "  </thead>\n",
       "  <tbody>\n",
       "    <tr>\n",
       "      <th>0</th>\n",
       "      <td>0.096</td>\n",
       "      <td>00:00:00</td>\n",
       "    </tr>\n",
       "    <tr>\n",
       "      <th>1</th>\n",
       "      <td>0.091</td>\n",
       "      <td>00:15:00</td>\n",
       "    </tr>\n",
       "    <tr>\n",
       "      <th>2</th>\n",
       "      <td>0.087</td>\n",
       "      <td>00:30:00</td>\n",
       "    </tr>\n",
       "    <tr>\n",
       "      <th>3</th>\n",
       "      <td>0.083</td>\n",
       "      <td>00:45:00</td>\n",
       "    </tr>\n",
       "    <tr>\n",
       "      <th>4</th>\n",
       "      <td>0.079</td>\n",
       "      <td>01:00:00</td>\n",
       "    </tr>\n",
       "  </tbody>\n",
       "</table>\n",
       "</div>"
      ],
      "text/plain": [
       "   value      time\n",
       "0  0.096  00:00:00\n",
       "1  0.091  00:15:00\n",
       "2  0.087  00:30:00\n",
       "3  0.083  00:45:00\n",
       "4  0.079  01:00:00"
      ]
     },
     "execution_count": 112,
     "metadata": {},
     "output_type": "execute_result"
    }
   ],
   "source": [
    "df_15min['time'] = df_15min[['datetime', 'datetime.1']].astype(str).agg(':'.join, axis=1)\n",
    "df_15min['time'] = pd.to_datetime(df_15min['time'], format='%H:%M').dt.time\n",
    "df_15min.drop(['datetime','datetime.1'],axis=1, inplace=True)\n",
    "df_15min.head()"
   ]
  },
  {
   "cell_type": "code",
   "execution_count": 113,
   "metadata": {},
   "outputs": [
    {
     "data": {
      "text/plain": [
       "[<matplotlib.lines.Line2D at 0x211e6e43190>]"
      ]
     },
     "execution_count": 113,
     "metadata": {},
     "output_type": "execute_result"
    },
    {
     "data": {
      "image/png": "[encoded data removed]",
      "text/plain": [
       "<Figure size 640x480 with 1 Axes>"
      ]
     },
     "metadata": {},
     "output_type": "display_data"
    }
   ],
   "source": [
    "hourly_means = {}\n",
    "\n",
    "for index, row in df_15min.iterrows():\n",
    "    hour = row['time'].hour\n",
    "    value = row['value']\n",
    "    \n",
    "    if hour in hourly_means:\n",
    "        hourly_means[hour].append(value)\n",
    "    else:\n",
    "        hourly_means[hour] = [value]\n",
    "\n",
    "# Calculate mean for each hour\n",
    "for hour, values in hourly_means.items():\n",
    "    mean_value = sum(values) / len(values)\n",
    "    hourly_means[hour] = round(mean_value,3)\n",
    "\n",
    "# Printing the hourly mean values\n",
    "# for hour, mean_value in hourly_means.items():\n",
    "#     print(f\"Hour {hour}: Mean value = {mean_value}\")\n",
    "df_hourly = pd.DataFrame(hourly_means,index=[0])\n",
    "df_hourly = df_hourly.transpose()\n",
    "\n",
    "plt.plot(df_hourly)"
   ]
  },
  {
   "cell_type": "code",
   "execution_count": 119,
   "metadata": {},
   "outputs": [],
   "source": [
    "active_power = df_hourly.to_numpy()"
   ]
  },
  {
   "cell_type": "code",
   "execution_count": 123,
   "metadata": {},
   "outputs": [],
   "source": [
    "active_power = df_hourly.to_numpy()\n",
    "days = 300\n",
    "hours = 24\n",
    "\n",
    "Num_households = 100\n",
    "\n",
    "def extend_data(active_power,days,Num_households):\n",
    "    reshaped_array = np.tile(active_power, (days, 1)).repeat(Num_households, axis=1)\n",
    "    return reshaped_array "
   ]
  },
  {
   "attachments": {},
   "cell_type": "markdown",
   "metadata": {},
   "source": [
    "# Individual houselhold"
   ]
  },
  {
   "cell_type": "code",
   "execution_count": 132,
   "metadata": {},
   "outputs": [
    {
     "data": {
      "text/html": [
       "<div>\n",
       "<style scoped>\n",
       "    .dataframe tbody tr th:only-of-type {\n",
       "        vertical-align: middle;\n",
       "    }\n",
       "\n",
       "    .dataframe tbody tr th {\n",
       "        vertical-align: top;\n",
       "    }\n",
       "\n",
       "    .dataframe thead th {\n",
       "        text-align: right;\n",
       "    }\n",
       "</style>\n",
       "<table border=\"1\" class=\"dataframe\">\n",
       "  <thead>\n",
       "    <tr style=\"text-align: right;\">\n",
       "      <th></th>\n",
       "      <th>Date</th>\n",
       "      <th>Time</th>\n",
       "      <th>Global_active_power</th>\n",
       "      <th>Global_reactive_power</th>\n",
       "      <th>Voltage</th>\n",
       "      <th>Global_intensity</th>\n",
       "      <th>Sub_metering_1</th>\n",
       "      <th>Sub_metering_2</th>\n",
       "      <th>Sub_metering_3</th>\n",
       "    </tr>\n",
       "  </thead>\n",
       "  <tbody>\n",
       "    <tr>\n",
       "      <th>0</th>\n",
       "      <td>1/1/07</td>\n",
       "      <td>0:00:00</td>\n",
       "      <td>2.58</td>\n",
       "      <td>0.136</td>\n",
       "      <td>241.97</td>\n",
       "      <td>10.6</td>\n",
       "      <td>0</td>\n",
       "      <td>0</td>\n",
       "      <td>0.0</td>\n",
       "    </tr>\n",
       "    <tr>\n",
       "      <th>1</th>\n",
       "      <td>1/1/07</td>\n",
       "      <td>0:01:00</td>\n",
       "      <td>2.552</td>\n",
       "      <td>0.1</td>\n",
       "      <td>241.75</td>\n",
       "      <td>10.4</td>\n",
       "      <td>0</td>\n",
       "      <td>0</td>\n",
       "      <td>0.0</td>\n",
       "    </tr>\n",
       "    <tr>\n",
       "      <th>2</th>\n",
       "      <td>1/1/07</td>\n",
       "      <td>0:02:00</td>\n",
       "      <td>2.55</td>\n",
       "      <td>0.1</td>\n",
       "      <td>241.64</td>\n",
       "      <td>10.4</td>\n",
       "      <td>0</td>\n",
       "      <td>0</td>\n",
       "      <td>0.0</td>\n",
       "    </tr>\n",
       "    <tr>\n",
       "      <th>3</th>\n",
       "      <td>1/1/07</td>\n",
       "      <td>0:03:00</td>\n",
       "      <td>2.55</td>\n",
       "      <td>0.1</td>\n",
       "      <td>241.71</td>\n",
       "      <td>10.4</td>\n",
       "      <td>0</td>\n",
       "      <td>0</td>\n",
       "      <td>0.0</td>\n",
       "    </tr>\n",
       "    <tr>\n",
       "      <th>4</th>\n",
       "      <td>1/1/07</td>\n",
       "      <td>0:04:00</td>\n",
       "      <td>2.554</td>\n",
       "      <td>0.1</td>\n",
       "      <td>241.98</td>\n",
       "      <td>10.4</td>\n",
       "      <td>0</td>\n",
       "      <td>0</td>\n",
       "      <td>0.0</td>\n",
       "    </tr>\n",
       "  </tbody>\n",
       "</table>\n",
       "</div>"
      ],
      "text/plain": [
       "     Date     Time Global_active_power Global_reactive_power Voltage  \\\n",
       "0  1/1/07  0:00:00                2.58                 0.136  241.97   \n",
       "1  1/1/07  0:01:00               2.552                   0.1  241.75   \n",
       "2  1/1/07  0:02:00                2.55                   0.1  241.64   \n",
       "3  1/1/07  0:03:00                2.55                   0.1  241.71   \n",
       "4  1/1/07  0:04:00               2.554                   0.1  241.98   \n",
       "\n",
       "  Global_intensity Sub_metering_1 Sub_metering_2  Sub_metering_3  \n",
       "0             10.6              0              0             0.0  \n",
       "1             10.4              0              0             0.0  \n",
       "2             10.4              0              0             0.0  \n",
       "3             10.4              0              0             0.0  \n",
       "4             10.4              0              0             0.0  "
      ]
     },
     "execution_count": 132,
     "metadata": {},
     "output_type": "execute_result"
    }
   ],
   "source": [
    "df_individual.head()"
   ]
  },
  {
   "cell_type": "code",
   "execution_count": 133,
   "metadata": {},
   "outputs": [],
   "source": [
    "# Assuming you have the dataframe named \"df\"\n",
    "df_individual['Datetime'] = pd.to_datetime(df_individual['Date'] + ' ' + df_individual['Time'])\n",
    "df_individual.drop(['Voltage','Global_intensity','Sub_metering_1','Sub_metering_2','Sub_metering_3'], axis=1, inplace=True)"
   ]
  },
  {
   "cell_type": "code",
   "execution_count": 134,
   "metadata": {},
   "outputs": [
    {
     "data": {
      "text/html": [
       "<div>\n",
       "<style scoped>\n",
       "    .dataframe tbody tr th:only-of-type {\n",
       "        vertical-align: middle;\n",
       "    }\n",
       "\n",
       "    .dataframe tbody tr th {\n",
       "        vertical-align: top;\n",
       "    }\n",
       "\n",
       "    .dataframe thead th {\n",
       "        text-align: right;\n",
       "    }\n",
       "</style>\n",
       "<table border=\"1\" class=\"dataframe\">\n",
       "  <thead>\n",
       "    <tr style=\"text-align: right;\">\n",
       "      <th></th>\n",
       "      <th>Date</th>\n",
       "      <th>Time</th>\n",
       "      <th>Global_active_power</th>\n",
       "      <th>Global_reactive_power</th>\n",
       "      <th>Datetime</th>\n",
       "    </tr>\n",
       "  </thead>\n",
       "  <tbody>\n",
       "    <tr>\n",
       "      <th>0</th>\n",
       "      <td>1/1/07</td>\n",
       "      <td>0:00:00</td>\n",
       "      <td>2.58</td>\n",
       "      <td>0.136</td>\n",
       "      <td>2007-01-01 00:00:00</td>\n",
       "    </tr>\n",
       "    <tr>\n",
       "      <th>1</th>\n",
       "      <td>1/1/07</td>\n",
       "      <td>0:01:00</td>\n",
       "      <td>2.552</td>\n",
       "      <td>0.1</td>\n",
       "      <td>2007-01-01 00:01:00</td>\n",
       "    </tr>\n",
       "    <tr>\n",
       "      <th>2</th>\n",
       "      <td>1/1/07</td>\n",
       "      <td>0:02:00</td>\n",
       "      <td>2.55</td>\n",
       "      <td>0.1</td>\n",
       "      <td>2007-01-01 00:02:00</td>\n",
       "    </tr>\n",
       "    <tr>\n",
       "      <th>3</th>\n",
       "      <td>1/1/07</td>\n",
       "      <td>0:03:00</td>\n",
       "      <td>2.55</td>\n",
       "      <td>0.1</td>\n",
       "      <td>2007-01-01 00:03:00</td>\n",
       "    </tr>\n",
       "    <tr>\n",
       "      <th>4</th>\n",
       "      <td>1/1/07</td>\n",
       "      <td>0:04:00</td>\n",
       "      <td>2.554</td>\n",
       "      <td>0.1</td>\n",
       "      <td>2007-01-01 00:04:00</td>\n",
       "    </tr>\n",
       "  </tbody>\n",
       "</table>\n",
       "</div>"
      ],
      "text/plain": [
       "     Date     Time Global_active_power Global_reactive_power  \\\n",
       "0  1/1/07  0:00:00                2.58                 0.136   \n",
       "1  1/1/07  0:01:00               2.552                   0.1   \n",
       "2  1/1/07  0:02:00                2.55                   0.1   \n",
       "3  1/1/07  0:03:00                2.55                   0.1   \n",
       "4  1/1/07  0:04:00               2.554                   0.1   \n",
       "\n",
       "             Datetime  \n",
       "0 2007-01-01 00:00:00  \n",
       "1 2007-01-01 00:01:00  \n",
       "2 2007-01-01 00:02:00  \n",
       "3 2007-01-01 00:03:00  \n",
       "4 2007-01-01 00:04:00  "
      ]
     },
     "execution_count": 134,
     "metadata": {},
     "output_type": "execute_result"
    }
   ],
   "source": [
    "df_individual.head()"
   ]
  },
  {
   "cell_type": "code",
   "execution_count": 135,
   "metadata": {},
   "outputs": [
    {
     "data": {
      "text/html": [
       "<div>\n",
       "<style scoped>\n",
       "    .dataframe tbody tr th:only-of-type {\n",
       "        vertical-align: middle;\n",
       "    }\n",
       "\n",
       "    .dataframe tbody tr th {\n",
       "        vertical-align: top;\n",
       "    }\n",
       "\n",
       "    .dataframe thead th {\n",
       "        text-align: right;\n",
       "    }\n",
       "</style>\n",
       "<table border=\"1\" class=\"dataframe\">\n",
       "  <thead>\n",
       "    <tr style=\"text-align: right;\">\n",
       "      <th></th>\n",
       "      <th>index</th>\n",
       "      <th>Date</th>\n",
       "      <th>Time</th>\n",
       "      <th>Global_active_power</th>\n",
       "      <th>Global_reactive_power</th>\n",
       "      <th>Datetime</th>\n",
       "    </tr>\n",
       "  </thead>\n",
       "  <tbody>\n",
       "    <tr>\n",
       "      <th>0</th>\n",
       "      <td>0</td>\n",
       "      <td>1/1/07</td>\n",
       "      <td>0:00:00</td>\n",
       "      <td>2.58</td>\n",
       "      <td>0.136</td>\n",
       "      <td>2007-01-01 00:00:00</td>\n",
       "    </tr>\n",
       "    <tr>\n",
       "      <th>1</th>\n",
       "      <td>1</td>\n",
       "      <td>1/1/07</td>\n",
       "      <td>0:01:00</td>\n",
       "      <td>2.552</td>\n",
       "      <td>0.1</td>\n",
       "      <td>2007-01-01 00:01:00</td>\n",
       "    </tr>\n",
       "    <tr>\n",
       "      <th>2</th>\n",
       "      <td>2</td>\n",
       "      <td>1/1/07</td>\n",
       "      <td>0:02:00</td>\n",
       "      <td>2.55</td>\n",
       "      <td>0.1</td>\n",
       "      <td>2007-01-01 00:02:00</td>\n",
       "    </tr>\n",
       "    <tr>\n",
       "      <th>3</th>\n",
       "      <td>3</td>\n",
       "      <td>1/1/07</td>\n",
       "      <td>0:03:00</td>\n",
       "      <td>2.55</td>\n",
       "      <td>0.1</td>\n",
       "      <td>2007-01-01 00:03:00</td>\n",
       "    </tr>\n",
       "    <tr>\n",
       "      <th>4</th>\n",
       "      <td>4</td>\n",
       "      <td>1/1/07</td>\n",
       "      <td>0:04:00</td>\n",
       "      <td>2.554</td>\n",
       "      <td>0.1</td>\n",
       "      <td>2007-01-01 00:04:00</td>\n",
       "    </tr>\n",
       "  </tbody>\n",
       "</table>\n",
       "</div>"
      ],
      "text/plain": [
       "   index    Date     Time Global_active_power Global_reactive_power  \\\n",
       "0      0  1/1/07  0:00:00                2.58                 0.136   \n",
       "1      1  1/1/07  0:01:00               2.552                   0.1   \n",
       "2      2  1/1/07  0:02:00                2.55                   0.1   \n",
       "3      3  1/1/07  0:03:00                2.55                   0.1   \n",
       "4      4  1/1/07  0:04:00               2.554                   0.1   \n",
       "\n",
       "             Datetime  \n",
       "0 2007-01-01 00:00:00  \n",
       "1 2007-01-01 00:01:00  \n",
       "2 2007-01-01 00:02:00  \n",
       "3 2007-01-01 00:03:00  \n",
       "4 2007-01-01 00:04:00  "
      ]
     },
     "execution_count": 135,
     "metadata": {},
     "output_type": "execute_result"
    }
   ],
   "source": [
    "df_individual.reset_index(inplace=True)\n",
    "df_individual.head()"
   ]
  },
  {
   "cell_type": "code",
   "execution_count": 136,
   "metadata": {},
   "outputs": [],
   "source": [
    "# Replace non-numeric values with NaN\n",
    "df_individual['Global_active_power'] = pd.to_numeric(df_individual['Global_active_power'], errors='coerce')\n",
    "df_individual['Global_reactive_power'] = pd.to_numeric(df_individual['Global_reactive_power'], errors='coerce')\n",
    "\n",
    "# Calculate the mean values\n",
    "mean_active_power = df_individual['Global_active_power'].mean()\n",
    "mean_reactive_power = df_individual['Global_reactive_power'].mean()\n",
    "\n",
    "# Replace NaN values with the mean\n",
    "df_individual['Global_active_power'].fillna(mean_active_power, inplace=True)\n",
    "df_individual['Global_reactive_power'].fillna(mean_reactive_power, inplace=True)\n"
   ]
  },
  {
   "cell_type": "code",
   "execution_count": 137,
   "metadata": {},
   "outputs": [],
   "source": [
    "df_individual['Global_active_power'] = df_individual['Global_active_power'].astype(float)\n",
    "df_individual['Global_reactive_power'] = df_individual['Global_reactive_power'].astype(float)\n"
   ]
  },
  {
   "cell_type": "code",
   "execution_count": 138,
   "metadata": {},
   "outputs": [],
   "source": [
    "df_hourly_ind = df_individual.groupby([df_individual['Date'],df_individual['Datetime'].dt.hour])[['Global_active_power','Global_reactive_power']].mean()"
   ]
  },
  {
   "cell_type": "code",
   "execution_count": 139,
   "metadata": {},
   "outputs": [],
   "source": [
    "df_hourly_ind.reset_index(inplace=True)"
   ]
  },
  {
   "cell_type": "code",
   "execution_count": 140,
   "metadata": {},
   "outputs": [
    {
     "data": {
      "text/html": [
       "<div>\n",
       "<style scoped>\n",
       "    .dataframe tbody tr th:only-of-type {\n",
       "        vertical-align: middle;\n",
       "    }\n",
       "\n",
       "    .dataframe tbody tr th {\n",
       "        vertical-align: top;\n",
       "    }\n",
       "\n",
       "    .dataframe thead th {\n",
       "        text-align: right;\n",
       "    }\n",
       "</style>\n",
       "<table border=\"1\" class=\"dataframe\">\n",
       "  <thead>\n",
       "    <tr style=\"text-align: right;\">\n",
       "      <th></th>\n",
       "      <th>Date</th>\n",
       "      <th>Datetime</th>\n",
       "      <th>Global_active_power</th>\n",
       "      <th>Global_reactive_power</th>\n",
       "    </tr>\n",
       "  </thead>\n",
       "  <tbody>\n",
       "    <tr>\n",
       "      <th>0</th>\n",
       "      <td>1/1/07</td>\n",
       "      <td>0</td>\n",
       "      <td>2.550633</td>\n",
       "      <td>0.112800</td>\n",
       "    </tr>\n",
       "    <tr>\n",
       "      <th>1</th>\n",
       "      <td>1/1/07</td>\n",
       "      <td>1</td>\n",
       "      <td>2.523400</td>\n",
       "      <td>0.071633</td>\n",
       "    </tr>\n",
       "    <tr>\n",
       "      <th>2</th>\n",
       "      <td>1/1/07</td>\n",
       "      <td>2</td>\n",
       "      <td>2.582333</td>\n",
       "      <td>0.106667</td>\n",
       "    </tr>\n",
       "    <tr>\n",
       "      <th>3</th>\n",
       "      <td>1/1/07</td>\n",
       "      <td>3</td>\n",
       "      <td>2.541667</td>\n",
       "      <td>0.090100</td>\n",
       "    </tr>\n",
       "    <tr>\n",
       "      <th>4</th>\n",
       "      <td>1/1/07</td>\n",
       "      <td>4</td>\n",
       "      <td>2.475733</td>\n",
       "      <td>0.088167</td>\n",
       "    </tr>\n",
       "  </tbody>\n",
       "</table>\n",
       "</div>"
      ],
      "text/plain": [
       "     Date  Datetime  Global_active_power  Global_reactive_power\n",
       "0  1/1/07         0             2.550633               0.112800\n",
       "1  1/1/07         1             2.523400               0.071633\n",
       "2  1/1/07         2             2.582333               0.106667\n",
       "3  1/1/07         3             2.541667               0.090100\n",
       "4  1/1/07         4             2.475733               0.088167"
      ]
     },
     "execution_count": 140,
     "metadata": {},
     "output_type": "execute_result"
    }
   ],
   "source": [
    "df_hourly_ind.head()"
   ]
  },
  {
   "cell_type": "code",
   "execution_count": 153,
   "metadata": {},
   "outputs": [
    {
     "data": {
      "text/html": [
       "<div>\n",
       "<style scoped>\n",
       "    .dataframe tbody tr th:only-of-type {\n",
       "        vertical-align: middle;\n",
       "    }\n",
       "\n",
       "    .dataframe tbody tr th {\n",
       "        vertical-align: top;\n",
       "    }\n",
       "\n",
       "    .dataframe thead th {\n",
       "        text-align: right;\n",
       "    }\n",
       "</style>\n",
       "<table border=\"1\" class=\"dataframe\">\n",
       "  <thead>\n",
       "    <tr style=\"text-align: right;\">\n",
       "      <th></th>\n",
       "      <th>Datetime</th>\n",
       "      <th>Global_active_power</th>\n",
       "      <th>Global_reactive_power</th>\n",
       "    </tr>\n",
       "  </thead>\n",
       "  <tbody>\n",
       "    <tr>\n",
       "      <th>0</th>\n",
       "      <td>2007-01-01 00:00:00</td>\n",
       "      <td>2.550633</td>\n",
       "      <td>0.112800</td>\n",
       "    </tr>\n",
       "    <tr>\n",
       "      <th>1</th>\n",
       "      <td>2007-01-01 01:00:00</td>\n",
       "      <td>2.523400</td>\n",
       "      <td>0.071633</td>\n",
       "    </tr>\n",
       "    <tr>\n",
       "      <th>2</th>\n",
       "      <td>2007-01-01 02:00:00</td>\n",
       "      <td>2.582333</td>\n",
       "      <td>0.106667</td>\n",
       "    </tr>\n",
       "    <tr>\n",
       "      <th>3</th>\n",
       "      <td>2007-01-01 03:00:00</td>\n",
       "      <td>2.541667</td>\n",
       "      <td>0.090100</td>\n",
       "    </tr>\n",
       "    <tr>\n",
       "      <th>4</th>\n",
       "      <td>2007-01-01 04:00:00</td>\n",
       "      <td>2.475733</td>\n",
       "      <td>0.088167</td>\n",
       "    </tr>\n",
       "  </tbody>\n",
       "</table>\n",
       "</div>"
      ],
      "text/plain": [
       "             Datetime  Global_active_power  Global_reactive_power\n",
       "0 2007-01-01 00:00:00             2.550633               0.112800\n",
       "1 2007-01-01 01:00:00             2.523400               0.071633\n",
       "2 2007-01-01 02:00:00             2.582333               0.106667\n",
       "3 2007-01-01 03:00:00             2.541667               0.090100\n",
       "4 2007-01-01 04:00:00             2.475733               0.088167"
      ]
     },
     "execution_count": 153,
     "metadata": {},
     "output_type": "execute_result"
    }
   ],
   "source": [
    "# Assuming you have the dataframe named \"df\" with \"Date\" and \"Datetime\" columns\n",
    "df_hourly_ind['Datetime'] = pd.to_datetime(df_hourly_ind['Date'] + ' ' + df_hourly_ind['Datetime'].astype(str) + ':00:00')\n",
    "\n",
    "# Drop the \"Date\" column\n",
    "df_hourly_ind.drop('Date', axis=1, inplace=True)\n",
    "df_hourly_ind.head()"
   ]
  },
  {
   "cell_type": "code",
   "execution_count": 154,
   "metadata": {},
   "outputs": [],
   "source": [
    "mean_active = df_hourly_ind.groupby(df_hourly_ind[\"Datetime\"].dt.hour)[\"Global_active_power\"].mean().to_numpy()\n",
    "mean_reactive = df_hourly_ind.groupby(df_hourly_ind[\"Datetime\"].dt.hour)[\"Global_reactive_power\"].mean().to_numpy()"
   ]
  },
  {
   "cell_type": "code",
   "execution_count": 130,
   "metadata": {},
   "outputs": [
    {
     "data": {
      "text/plain": [
       "array([0.32772713, 0.20397637, 0.12081508, 0.06743779, 0.04892292,\n",
       "       0.06455903, 0.22055827, 0.37749612, 0.32847523, 0.25271831,\n",
       "       0.33917155, 0.31507661, 0.44344667, 0.38005491, 0.37295058,\n",
       "       0.39246456, 0.29693865, 0.40476196, 0.62821068, 0.84593754,\n",
       "       0.75344889, 0.71315117, 0.46572152, 0.35011087])"
      ]
     },
     "execution_count": 130,
     "metadata": {},
     "output_type": "execute_result"
    }
   ],
   "source": [
    "def extend_data(active_power,days,Num_households):\n",
    "    reshaped_array = np.tile(active_power, (days, 1)).repeat(Num_households, axis=1)\n",
    "    return reshaped_array"
   ]
  },
  {
   "cell_type": "code",
   "execution_count": 155,
   "metadata": {},
   "outputs": [
    {
     "data": {
      "text/plain": [
       "[<matplotlib.lines.Line2D at 0x211ea968220>]"
      ]
     },
     "execution_count": 155,
     "metadata": {},
     "output_type": "execute_result"
    },
    {
     "data": {
      "image/png": "[encoded data removed]",
      "text/plain": [
       "<Figure size 640x480 with 1 Axes>"
      ]
     },
     "metadata": {},
     "output_type": "display_data"
    }
   ],
   "source": [
    "plt.plot(mean_reactive)"
   ]
  },
  {
   "cell_type": "code",
   "execution_count": null,
   "metadata": {},
   "outputs": [],
   "source": []
  }
 ],
 "metadata": {
  "kernelspec": {
   "display_name": "Python 3",
   "language": "python",
   "name": "python3"
  },
  "language_info": {
   "codemirror_mode": {
    "name": "ipython",
    "version": 3
   },
   "file_extension": ".py",
   "mimetype": "text/x-python",
   "name": "python",
   "nbconvert_exporter": "python",
   "pygments_lexer": "ipython3",
   "version": "3.9.0"
  },
  "orig_nbformat": 4
 },
 "nbformat": 4,
 "nbformat_minor": 2
}
